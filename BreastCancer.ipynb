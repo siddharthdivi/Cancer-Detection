{
 "cells": [
  {
   "cell_type": "code",
   "execution_count": 1,
   "metadata": {
    "collapsed": true
   },
   "outputs": [],
   "source": [
    "\n",
    "import pandas as pd\n",
    "import numpy as np\n",
    "from collections import Counter\n",
    "from sklearn.tree import DecisionTreeClassifier\n",
    "from sklearn.ensemble import RandomForestClassifier\n",
    "from sklearn.ensemble import ExtraTreesClassifier\n",
    "from sklearn import svm\n",
    "from sklearn import model_selection\n",
    "from sklearn.externals import joblib\n",
    "from sklearn.ensemble import ExtraTreesClassifier\n",
    "import matplotlib.pyplot as plt"
   ]
  },
  {
   "cell_type": "code",
   "execution_count": 2,
   "metadata": {},
   "outputs": [
    {
     "data": {
      "text/plain": [
       "(569, 33)"
      ]
     },
     "execution_count": 2,
     "metadata": {},
     "output_type": "execute_result"
    }
   ],
   "source": [
    "df = pd.read_csv(\"./Breast Cancer Dataset/data.csv\",header=0)\n",
    "df.shape"
   ]
  },
  {
   "cell_type": "code",
   "execution_count": 3,
   "metadata": {},
   "outputs": [
    {
     "data": {
      "text/plain": [
       "id                           int64\n",
       "diagnosis                   object\n",
       "radius_mean                float64\n",
       "texture_mean               float64\n",
       "perimeter_mean             float64\n",
       "area_mean                  float64\n",
       "smoothness_mean            float64\n",
       "compactness_mean           float64\n",
       "concavity_mean             float64\n",
       "concave points_mean        float64\n",
       "symmetry_mean              float64\n",
       "fractal_dimension_mean     float64\n",
       "radius_se                  float64\n",
       "texture_se                 float64\n",
       "perimeter_se               float64\n",
       "area_se                    float64\n",
       "smoothness_se              float64\n",
       "compactness_se             float64\n",
       "concavity_se               float64\n",
       "concave points_se          float64\n",
       "symmetry_se                float64\n",
       "fractal_dimension_se       float64\n",
       "radius_worst               float64\n",
       "texture_worst              float64\n",
       "perimeter_worst            float64\n",
       "area_worst                 float64\n",
       "smoothness_worst           float64\n",
       "compactness_worst          float64\n",
       "concavity_worst            float64\n",
       "concave points_worst       float64\n",
       "symmetry_worst             float64\n",
       "fractal_dimension_worst    float64\n",
       "Unnamed: 32                float64\n",
       "dtype: object"
      ]
     },
     "execution_count": 3,
     "metadata": {},
     "output_type": "execute_result"
    }
   ],
   "source": [
    "df.dtypes"
   ]
  },
  {
   "cell_type": "code",
   "execution_count": 4,
   "metadata": {
    "collapsed": true
   },
   "outputs": [],
   "source": [
    "del df['Unnamed: 32']\n",
    "del df['id']"
   ]
  },
  {
   "cell_type": "code",
   "execution_count": 5,
   "metadata": {},
   "outputs": [
    {
     "name": "stdout",
     "output_type": "stream",
     "text": [
      "(569, 31)\n",
      "(569, 31)\n"
     ]
    }
   ],
   "source": [
    "print df.shape\n",
    "print df.values.shape"
   ]
  },
  {
   "cell_type": "code",
   "execution_count": 6,
   "metadata": {},
   "outputs": [
    {
     "name": "stdout",
     "output_type": "stream",
     "text": [
      "(569,)\n"
     ]
    }
   ],
   "source": [
    "y = df.values[:,0]\n",
    "x = df.values[:,1:]\n",
    "u = []\n",
    "for i in y:\n",
    "    if(i=='M'):\n",
    "        u.append(1)\n",
    "    else:\n",
    "        u.append(0)\n",
    "y = np.array(u)\n",
    "print np.shape(y)"
   ]
  },
  {
   "cell_type": "code",
   "execution_count": 7,
   "metadata": {},
   "outputs": [
    {
     "name": "stdout",
     "output_type": "stream",
     "text": [
      "Counter({0: 121, 1: 67}) Counter({0: 236, 1: 145})\n"
     ]
    }
   ],
   "source": [
    "X_train, X_test, y_train, y_test = model_selection.train_test_split(x,y,test_size=0.33,random_state=0)#,stratify = y)\n",
    "print Counter(y_test),Counter(y_train)"
   ]
  },
  {
   "cell_type": "code",
   "execution_count": 11,
   "metadata": {},
   "outputs": [
    {
     "name": "stdout",
     "output_type": "stream",
     "text": [
      "Random forest ( with : entropy ) 0.973404255319\n",
      "Extra trees ( with : entropy ) 0.957446808511\n",
      "Random forest ( with : gini ) 0.946808510638\n",
      "Extra trees ( with : gini ) 0.968085106383\n"
     ]
    }
   ],
   "source": [
    "for cri in [\"entropy\", \"gini\"]:\n",
    "    rf = RandomForestClassifier(n_estimators=200,max_features=6,criterion=cri)\n",
    "    rf.fit(X_train,y_train)\n",
    "    print \"Random forest (\", \"with :\",cri,\")\",rf.score(X_test,y_test)\n",
    "\n",
    "    et = ExtraTreesClassifier(n_estimators=200,max_features=6,criterion=cri)\n",
    "    et.fit(X_train,y_train)\n",
    "    print \"Extra trees (\", \"with :\",cri,\")\",et.score(X_test,y_test)"
   ]
  },
  {
   "cell_type": "code",
   "execution_count": 12,
   "metadata": {},
   "outputs": [
    {
     "name": "stdout",
     "output_type": "stream",
     "text": [
      "decision tree:  0.914893617021\n"
     ]
    }
   ],
   "source": [
    "#Decision Tree Classifier.\n",
    "dt = DecisionTreeClassifier()\n",
    "dt.fit(X_train,y_train)\n",
    "print \"decision tree: \",dt.score(X_test,y_test)"
   ]
  },
  {
   "cell_type": "code",
   "execution_count": 13,
   "metadata": {},
   "outputs": [
    {
     "name": "stdout",
     "output_type": "stream",
     "text": [
      "SVM:  0.643617021277\n"
     ]
    }
   ],
   "source": [
    "# SVM Classifier with default parameters.\n",
    "#libsvm package in O(n^2)\n",
    "SVM = svm.SVC()\n",
    "SVM.fit(X_train,y_train)\n",
    "print \"SVM: \",SVM.score(X_test,y_test)\n"
   ]
  },
  {
   "cell_type": "code",
   "execution_count": 14,
   "metadata": {},
   "outputs": [
    {
     "name": "stdout",
     "output_type": "stream",
     "text": [
      "SVM:  0.643617021277\n"
     ]
    }
   ],
   "source": [
    "#Kernel : 'rbf'\n",
    "SVM = svm.SVC(kernel='rbf')\n",
    "SVM.fit(X_train,y_train)\n",
    "print \"SVM: \",SVM.score(X_test,y_test)\n"
   ]
  },
  {
   "cell_type": "code",
   "execution_count": 15,
   "metadata": {},
   "outputs": [
    {
     "name": "stdout",
     "output_type": "stream",
     "text": [
      "SVM:  0.946808510638\n"
     ]
    }
   ],
   "source": [
    "#Kernel : 'poly'\n",
    "SVM = svm.SVC(kernel='poly',degree=2)\n",
    "SVM.fit(X_train,y_train)\n",
    "print \"SVM: \",SVM.score(X_test,y_test)\n"
   ]
  },
  {
   "cell_type": "code",
   "execution_count": 16,
   "metadata": {},
   "outputs": [
    {
     "name": "stdout",
     "output_type": "stream",
     "text": [
      "SVM:  0.643617021277\n"
     ]
    }
   ],
   "source": [
    "#Kernel : 'sigmoid'\n",
    "SVM = svm.SVC(kernel='sigmoid')\n",
    "SVM.fit(X_train,y_train)\n",
    "print \"SVM: \",SVM.score(X_test,y_test)\n"
   ]
  },
  {
   "cell_type": "code",
   "execution_count": 17,
   "metadata": {},
   "outputs": [
    {
     "name": "stdout",
     "output_type": "stream",
     "text": [
      "SVM:  0.957446808511\n"
     ]
    }
   ],
   "source": [
    "#Kernel : 'linear'\n",
    "SVM = svm.SVC(kernel='linear')\n",
    "SVM.fit(X_train,y_train)\n",
    "print \"SVM: \",SVM.score(X_test,y_test)\n"
   ]
  },
  {
   "cell_type": "code",
   "execution_count": 18,
   "metadata": {},
   "outputs": [
    {
     "name": "stdout",
     "output_type": "stream",
     "text": [
      "x :  1.0  SVM:  0.957446808511\n",
      "x :  1.5  SVM:  0.968085106383\n",
      "x :  2.0  SVM:  0.962765957447\n",
      "x :  2.5  SVM:  0.962765957447\n",
      "x :  3.0  SVM:  0.957446808511\n",
      "x :  3.5  SVM:  0.968085106383\n",
      "x :  4.0  SVM:  0.957446808511\n",
      "x :  4.5  SVM:  0.968085106383\n",
      "x :  5.0  SVM:  0.962765957447\n",
      "x :  5.5  SVM:  0.962765957447\n",
      "x :  6.0  SVM:  0.968085106383\n",
      "x :  6.5  SVM:  0.968085106383\n",
      "x :  7.0  SVM:  0.968085106383\n",
      "x :  7.5  SVM:  0.968085106383\n",
      "x :  8.0  SVM:  0.968085106383\n",
      "x :  8.5  SVM:  0.962765957447\n",
      "x :  9.0  SVM:  0.962765957447\n",
      "x :  9.5  SVM:  0.968085106383\n",
      "x :  10.0  SVM:  0.957446808511\n",
      "x :  10.5  SVM:  0.962765957447\n",
      "x :  11.0  SVM:  0.962765957447\n",
      "x :  11.5  SVM:  0.968085106383\n",
      "x :  12.0  SVM:  0.952127659574\n",
      "x :  12.5  SVM:  0.946808510638\n",
      "x :  13.0  SVM:  0.952127659574\n"
     ]
    }
   ],
   "source": [
    "#Kernel : 'linear'\n",
    "count=1\n",
    "x=1.0\n",
    "while(count <= 25):\n",
    "    SVM = svm.SVC(kernel='linear',C=x)\n",
    "    SVM.fit(X_train,y_train)\n",
    "    print \"x : \", x ,\" SVM: \",SVM.score(X_test,y_test)\n",
    "    x += 0.5\n",
    "    count += 1\n",
    "\n",
    "#Best C : [1.5]"
   ]
  },
  {
   "cell_type": "code",
   "execution_count": 19,
   "metadata": {},
   "outputs": [
    {
     "name": "stdout",
     "output_type": "stream",
     "text": [
      "Random State  0 : 0.968085106383\n",
      "Random State  1 : 0.968085106383\n",
      "Random State  2 : 0.968085106383\n",
      "Random State  3 : 0.968085106383\n",
      "Random State  4 : 0.968085106383\n",
      "Random State  5 : 0.968085106383\n",
      "Random State  6 : 0.968085106383\n",
      "Random State  7 : 0.968085106383\n",
      "Random State  8 : 0.968085106383\n",
      "Random State  9 : 0.968085106383\n",
      "\n",
      "Best Results :  0  :  0.968085106383\n"
     ]
    }
   ],
   "source": [
    "# 'OVO'\n",
    "max_i = 0\n",
    "maxacc=0.0\n",
    "acc=0.0\n",
    "for i in range(0,10):\n",
    "     SVM = svm.SVC(kernel='linear',C=1.5,decision_function_shape='ovo',random_state=i)\n",
    "     SVM.fit(X_train,y_train)\n",
    "     acc=SVM.score(X_test,y_test)\n",
    "     if (acc > maxacc):\n",
    "        maxacc = acc\n",
    "        max_i = i\n",
    "     print \"Random State \",i,\":\",acc\n",
    "    \n",
    "print \"\\nBest Results : \",max_i,\" : \",maxacc    "
   ]
  },
  {
   "cell_type": "code",
   "execution_count": 20,
   "metadata": {},
   "outputs": [
    {
     "name": "stdout",
     "output_type": "stream",
     "text": [
      "Random State  0 : 0.941489361702\n",
      "Random State  1 : 0.877659574468\n",
      "Random State  2 : 0.936170212766\n",
      "Random State  3 : 0.851063829787\n",
      "Random State  4 : 0.86170212766\n",
      "Random State  5 : 0.952127659574\n",
      "Random State  6 : 0.952127659574\n",
      "Random State  7 : 0.957446808511\n",
      "Random State  8 : 0.962765957447\n",
      "Random State  9 : 0.925531914894\n",
      "Random State  10 : 0.872340425532\n",
      "Random State  11 : 0.936170212766\n",
      "Random State  12 : 0.952127659574\n",
      "Random State  13 : 0.914893617021\n",
      "Random State  14 : 0.914893617021\n",
      "Random State  15 : 0.962765957447\n",
      "Random State  16 : 0.957446808511\n",
      "Random State  17 : 0.563829787234\n",
      "Random State  18 : 0.962765957447\n",
      "Random State  19 : 0.872340425532\n",
      "\n",
      "Best Results :  8  :  0.962765957447\n"
     ]
    }
   ],
   "source": [
    "#LinearSVC : with liblinear package in O(n)\n",
    "#Random State given to ensure that the mean accuracy remains the same across multiple runs.\n",
    "max_i = 0\n",
    "maxacc=0.0\n",
    "acc=0.0\n",
    "for i in range(0,20):\n",
    "     lin_svm = svm.LinearSVC(random_state=i)\n",
    "     lin_svm.fit(X_train,y_train)\n",
    "     acc=lin_svm.score(X_test,y_test)\n",
    "     if (acc > maxacc):\n",
    "        maxacc = acc\n",
    "        max_i = i\n",
    "     print \"Random State \",i,\":\",acc\n",
    "    \n",
    "print \"\\nBest Results : \",max_i,\" : \",maxacc    "
   ]
  },
  {
   "cell_type": "code",
   "execution_count": 21,
   "metadata": {},
   "outputs": [
    {
     "name": "stdout",
     "output_type": "stream",
     "text": [
      "0.968085106383\n",
      "0.968085106383\n"
     ]
    }
   ],
   "source": [
    "#Linear SVM with the best random_state.\n",
    "#Variation of 'penalty'.\n",
    "for i in [\"l1\",\"l2\"]:\n",
    "    lin_svm = svm.LinearSVC(penalty=i,random_state=8,dual=False)\n",
    "    lin_svm.fit(X_train,y_train)\n",
    "    print lin_svm.score(X_test,y_test)"
   ]
  },
  {
   "cell_type": "code",
   "execution_count": 22,
   "metadata": {},
   "outputs": [
    {
     "name": "stdout",
     "output_type": "stream",
     "text": [
      "0.968085106383\n",
      "0.941489361702\n"
     ]
    }
   ],
   "source": [
    "#Linear SVM with the best random_state.\n",
    "#Variation of 'multi_class'.\n",
    "for i in [\"ovr\",\"crammer_singer\"]:\n",
    "    lin_svm = svm.LinearSVC(multi_class=i,random_state=8,dual=False)\n",
    "    lin_svm.fit(X_train,y_train)\n",
    "    print lin_svm.score(X_test,y_test)"
   ]
  },
  {
   "cell_type": "code",
   "execution_count": 23,
   "metadata": {},
   "outputs": [
    {
     "name": "stdout",
     "output_type": "stream",
     "text": [
      "0.968085106383\n"
     ]
    }
   ],
   "source": [
    "#Linear SVM with the best random_state.\n",
    "#Variation of 'multi_class'.\n",
    "lin_svm = svm.LinearSVC(multi_class=\"ovr\",random_state=8,dual=False)\n",
    "lin_svm.fit(X_train,y_train)\n",
    "print lin_svm.score(X_test,y_test)"
   ]
  },
  {
   "cell_type": "code",
   "execution_count": 24,
   "metadata": {},
   "outputs": [
    {
     "data": {
      "text/plain": [
       "(569, 31)"
      ]
     },
     "execution_count": 24,
     "metadata": {},
     "output_type": "execute_result"
    }
   ],
   "source": [
    "df.shape"
   ]
  },
  {
   "cell_type": "code",
   "execution_count": 25,
   "metadata": {},
   "outputs": [
    {
     "data": {
      "text/html": [
       "<div>\n",
       "<style>\n",
       "    .dataframe thead tr:only-child th {\n",
       "        text-align: right;\n",
       "    }\n",
       "\n",
       "    .dataframe thead th {\n",
       "        text-align: left;\n",
       "    }\n",
       "\n",
       "    .dataframe tbody tr th {\n",
       "        vertical-align: top;\n",
       "    }\n",
       "</style>\n",
       "<table border=\"1\" class=\"dataframe\">\n",
       "  <thead>\n",
       "    <tr style=\"text-align: right;\">\n",
       "      <th></th>\n",
       "      <th>diagnosis</th>\n",
       "      <th>radius_mean</th>\n",
       "      <th>texture_mean</th>\n",
       "      <th>perimeter_mean</th>\n",
       "      <th>area_mean</th>\n",
       "      <th>smoothness_mean</th>\n",
       "      <th>compactness_mean</th>\n",
       "      <th>concavity_mean</th>\n",
       "      <th>concave points_mean</th>\n",
       "      <th>symmetry_mean</th>\n",
       "      <th>...</th>\n",
       "      <th>radius_worst</th>\n",
       "      <th>texture_worst</th>\n",
       "      <th>perimeter_worst</th>\n",
       "      <th>area_worst</th>\n",
       "      <th>smoothness_worst</th>\n",
       "      <th>compactness_worst</th>\n",
       "      <th>concavity_worst</th>\n",
       "      <th>concave points_worst</th>\n",
       "      <th>symmetry_worst</th>\n",
       "      <th>fractal_dimension_worst</th>\n",
       "    </tr>\n",
       "  </thead>\n",
       "  <tbody>\n",
       "    <tr>\n",
       "      <th>0</th>\n",
       "      <td>M</td>\n",
       "      <td>17.99</td>\n",
       "      <td>10.38</td>\n",
       "      <td>122.80</td>\n",
       "      <td>1001.0</td>\n",
       "      <td>0.11840</td>\n",
       "      <td>0.27760</td>\n",
       "      <td>0.3001</td>\n",
       "      <td>0.14710</td>\n",
       "      <td>0.2419</td>\n",
       "      <td>...</td>\n",
       "      <td>25.38</td>\n",
       "      <td>17.33</td>\n",
       "      <td>184.60</td>\n",
       "      <td>2019.0</td>\n",
       "      <td>0.1622</td>\n",
       "      <td>0.6656</td>\n",
       "      <td>0.7119</td>\n",
       "      <td>0.2654</td>\n",
       "      <td>0.4601</td>\n",
       "      <td>0.11890</td>\n",
       "    </tr>\n",
       "    <tr>\n",
       "      <th>1</th>\n",
       "      <td>M</td>\n",
       "      <td>20.57</td>\n",
       "      <td>17.77</td>\n",
       "      <td>132.90</td>\n",
       "      <td>1326.0</td>\n",
       "      <td>0.08474</td>\n",
       "      <td>0.07864</td>\n",
       "      <td>0.0869</td>\n",
       "      <td>0.07017</td>\n",
       "      <td>0.1812</td>\n",
       "      <td>...</td>\n",
       "      <td>24.99</td>\n",
       "      <td>23.41</td>\n",
       "      <td>158.80</td>\n",
       "      <td>1956.0</td>\n",
       "      <td>0.1238</td>\n",
       "      <td>0.1866</td>\n",
       "      <td>0.2416</td>\n",
       "      <td>0.1860</td>\n",
       "      <td>0.2750</td>\n",
       "      <td>0.08902</td>\n",
       "    </tr>\n",
       "    <tr>\n",
       "      <th>2</th>\n",
       "      <td>M</td>\n",
       "      <td>19.69</td>\n",
       "      <td>21.25</td>\n",
       "      <td>130.00</td>\n",
       "      <td>1203.0</td>\n",
       "      <td>0.10960</td>\n",
       "      <td>0.15990</td>\n",
       "      <td>0.1974</td>\n",
       "      <td>0.12790</td>\n",
       "      <td>0.2069</td>\n",
       "      <td>...</td>\n",
       "      <td>23.57</td>\n",
       "      <td>25.53</td>\n",
       "      <td>152.50</td>\n",
       "      <td>1709.0</td>\n",
       "      <td>0.1444</td>\n",
       "      <td>0.4245</td>\n",
       "      <td>0.4504</td>\n",
       "      <td>0.2430</td>\n",
       "      <td>0.3613</td>\n",
       "      <td>0.08758</td>\n",
       "    </tr>\n",
       "    <tr>\n",
       "      <th>3</th>\n",
       "      <td>M</td>\n",
       "      <td>11.42</td>\n",
       "      <td>20.38</td>\n",
       "      <td>77.58</td>\n",
       "      <td>386.1</td>\n",
       "      <td>0.14250</td>\n",
       "      <td>0.28390</td>\n",
       "      <td>0.2414</td>\n",
       "      <td>0.10520</td>\n",
       "      <td>0.2597</td>\n",
       "      <td>...</td>\n",
       "      <td>14.91</td>\n",
       "      <td>26.50</td>\n",
       "      <td>98.87</td>\n",
       "      <td>567.7</td>\n",
       "      <td>0.2098</td>\n",
       "      <td>0.8663</td>\n",
       "      <td>0.6869</td>\n",
       "      <td>0.2575</td>\n",
       "      <td>0.6638</td>\n",
       "      <td>0.17300</td>\n",
       "    </tr>\n",
       "  </tbody>\n",
       "</table>\n",
       "<p>4 rows × 31 columns</p>\n",
       "</div>"
      ],
      "text/plain": [
       "  diagnosis  radius_mean  texture_mean  perimeter_mean  area_mean  \\\n",
       "0         M        17.99         10.38          122.80     1001.0   \n",
       "1         M        20.57         17.77          132.90     1326.0   \n",
       "2         M        19.69         21.25          130.00     1203.0   \n",
       "3         M        11.42         20.38           77.58      386.1   \n",
       "\n",
       "   smoothness_mean  compactness_mean  concavity_mean  concave points_mean  \\\n",
       "0          0.11840           0.27760          0.3001              0.14710   \n",
       "1          0.08474           0.07864          0.0869              0.07017   \n",
       "2          0.10960           0.15990          0.1974              0.12790   \n",
       "3          0.14250           0.28390          0.2414              0.10520   \n",
       "\n",
       "   symmetry_mean           ...             radius_worst  texture_worst  \\\n",
       "0         0.2419           ...                    25.38          17.33   \n",
       "1         0.1812           ...                    24.99          23.41   \n",
       "2         0.2069           ...                    23.57          25.53   \n",
       "3         0.2597           ...                    14.91          26.50   \n",
       "\n",
       "   perimeter_worst  area_worst  smoothness_worst  compactness_worst  \\\n",
       "0           184.60      2019.0            0.1622             0.6656   \n",
       "1           158.80      1956.0            0.1238             0.1866   \n",
       "2           152.50      1709.0            0.1444             0.4245   \n",
       "3            98.87       567.7            0.2098             0.8663   \n",
       "\n",
       "   concavity_worst  concave points_worst  symmetry_worst  \\\n",
       "0           0.7119                0.2654          0.4601   \n",
       "1           0.2416                0.1860          0.2750   \n",
       "2           0.4504                0.2430          0.3613   \n",
       "3           0.6869                0.2575          0.6638   \n",
       "\n",
       "   fractal_dimension_worst  \n",
       "0                  0.11890  \n",
       "1                  0.08902  \n",
       "2                  0.08758  \n",
       "3                  0.17300  \n",
       "\n",
       "[4 rows x 31 columns]"
      ]
     },
     "execution_count": 25,
     "metadata": {},
     "output_type": "execute_result"
    }
   ],
   "source": [
    "df.head(4)"
   ]
  },
  {
   "cell_type": "code",
   "execution_count": 26,
   "metadata": {},
   "outputs": [
    {
     "data": {
      "text/plain": [
       "(381, 30)"
      ]
     },
     "execution_count": 26,
     "metadata": {},
     "output_type": "execute_result"
    }
   ],
   "source": [
    "X_train.shape"
   ]
  },
  {
   "cell_type": "code",
   "execution_count": 27,
   "metadata": {
    "collapsed": true
   },
   "outputs": [],
   "source": [
    "finalclf = joblib.dump(lin_svm,\"FinalCLF.pkl\")"
   ]
  },
  {
   "cell_type": "code",
   "execution_count": 28,
   "metadata": {},
   "outputs": [
    {
     "name": "stdout",
     "output_type": "stream",
     "text": [
      "0.968085106383\n"
     ]
    }
   ],
   "source": [
    "finalclf1 = joblib.load(\"FinalCLF.pkl\")\n",
    "print finalclf1.score(X_test,y_test)"
   ]
  },
  {
   "cell_type": "code",
   "execution_count": 33,
   "metadata": {
    "collapsed": true
   },
   "outputs": [],
   "source": [
    "y = df['diagnosis']\n",
    "del df['diagnosis']"
   ]
  },
  {
   "cell_type": "code",
   "execution_count": 43,
   "metadata": {},
   "outputs": [
    {
     "name": "stdout",
     "output_type": "stream",
     "text": [
      "Feature ranking:\n",
      "1. feature 27 (0.123613)\n",
      "2. feature 20 (0.102393)\n",
      "3. feature 23 (0.090718)\n",
      "4. feature 22 (0.073362)\n",
      "5. feature 7 (0.069074)\n",
      "6. feature 0 (0.057682)\n",
      "7. feature 2 (0.057616)\n",
      "8. feature 6 (0.055987)\n",
      "9. feature 3 (0.052329)\n",
      "10. feature 26 (0.042248)\n",
      "11. feature 25 (0.027331)\n",
      "12. feature 21 (0.024081)\n",
      "13. feature 1 (0.023992)\n",
      "14. feature 13 (0.023794)\n",
      "15. feature 12 (0.021898)\n",
      "16. feature 24 (0.019354)\n",
      "17. feature 10 (0.017798)\n",
      "18. feature 5 (0.017481)\n",
      "19. feature 28 (0.014939)\n",
      "20. feature 4 (0.011544)\n",
      "21. feature 29 (0.010375)\n",
      "22. feature 17 (0.009089)\n",
      "23. feature 16 (0.008688)\n",
      "24. feature 15 (0.007596)\n",
      "25. feature 8 (0.007226)\n",
      "26. feature 9 (0.006757)\n",
      "27. feature 18 (0.006067)\n",
      "28. feature 19 (0.005820)\n",
      "29. feature 14 (0.005708)\n",
      "30. feature 11 (0.005441)\n"
     ]
    },
    {
     "data": {
      "image/png": "[encoded data removed]",
      "text/plain": [
       "<matplotlib.figure.Figure at 0x7f4d4fa00c90>"
      ]
     },
     "metadata": {},
     "output_type": "display_data"
    }
   ],
   "source": [
    "#FEATURE IMPORTANCES USING FOREST OF TREES.\n",
    "# Build a forest and compute the feature importances\n",
    "\n",
    "forest = ExtraTreesClassifier(n_estimators=250,\n",
    "                              random_state=0)\n",
    "\n",
    "forest.fit(df,y)\n",
    "\n",
    "importances = forest.feature_importances_\n",
    "std = np.std([tree.feature_importances_ for tree in forest.estimators_],\n",
    "             axis=0)\n",
    "indices = np.argsort(importances)[::-1]\n",
    "\n",
    "# Print the feature ranking\n",
    "print(\"Feature ranking:\")\n",
    "\n",
    "for f in range(df.shape[1]):\n",
    "    print(\"%d. feature %d (%f)\" % (f + 1, indices[f], importances[indices[f]]))\n",
    "\n",
    "# Plot the feature importances of the forest\n",
    "plt.figure()\n",
    "plt.title(\"Feature importances\")\n",
    "plt.bar(range(df.shape[1]), importances[indices],\n",
    "       color=\"r\", yerr=std[indices], align=\"center\")\n",
    "plt.xticks(range(df.shape[1]), indices,rotation='vertical')\n",
    "plt.xlim([-1, df.shape[1]])\n",
    "plt.show()"
   ]
  },
  {
   "cell_type": "code",
   "execution_count": 9,
   "metadata": {},
   "outputs": [],
   "source": [
    "del df['diagnosis']"
   ]
  },
  {
   "cell_type": "code",
   "execution_count": 10,
   "metadata": {},
   "outputs": [
    {
     "data": {
      "text/html": [
       "<div>\n",
       "<style>\n",
       "    .dataframe thead tr:only-child th {\n",
       "        text-align: right;\n",
       "    }\n",
       "\n",
       "    .dataframe thead th {\n",
       "        text-align: left;\n",
       "    }\n",
       "\n",
       "    .dataframe tbody tr th {\n",
       "        vertical-align: top;\n",
       "    }\n",
       "</style>\n",
       "<table border=\"1\" class=\"dataframe\">\n",
       "  <thead>\n",
       "    <tr style=\"text-align: right;\">\n",
       "      <th></th>\n",
       "      <th>radius_mean</th>\n",
       "      <th>texture_mean</th>\n",
       "      <th>perimeter_mean</th>\n",
       "      <th>area_mean</th>\n",
       "      <th>smoothness_mean</th>\n",
       "      <th>compactness_mean</th>\n",
       "      <th>concavity_mean</th>\n",
       "      <th>concave points_mean</th>\n",
       "      <th>symmetry_mean</th>\n",
       "      <th>fractal_dimension_mean</th>\n",
       "      <th>...</th>\n",
       "      <th>radius_worst</th>\n",
       "      <th>texture_worst</th>\n",
       "      <th>perimeter_worst</th>\n",
       "      <th>area_worst</th>\n",
       "      <th>smoothness_worst</th>\n",
       "      <th>compactness_worst</th>\n",
       "      <th>concavity_worst</th>\n",
       "      <th>concave points_worst</th>\n",
       "      <th>symmetry_worst</th>\n",
       "      <th>fractal_dimension_worst</th>\n",
       "    </tr>\n",
       "  </thead>\n",
       "  <tbody>\n",
       "    <tr>\n",
       "      <th>0</th>\n",
       "      <td>17.99</td>\n",
       "      <td>10.38</td>\n",
       "      <td>122.80</td>\n",
       "      <td>1001.0</td>\n",
       "      <td>0.11840</td>\n",
       "      <td>0.27760</td>\n",
       "      <td>0.3001</td>\n",
       "      <td>0.14710</td>\n",
       "      <td>0.2419</td>\n",
       "      <td>0.07871</td>\n",
       "      <td>...</td>\n",
       "      <td>25.38</td>\n",
       "      <td>17.33</td>\n",
       "      <td>184.60</td>\n",
       "      <td>2019.0</td>\n",
       "      <td>0.1622</td>\n",
       "      <td>0.6656</td>\n",
       "      <td>0.7119</td>\n",
       "      <td>0.2654</td>\n",
       "      <td>0.4601</td>\n",
       "      <td>0.11890</td>\n",
       "    </tr>\n",
       "    <tr>\n",
       "      <th>1</th>\n",
       "      <td>20.57</td>\n",
       "      <td>17.77</td>\n",
       "      <td>132.90</td>\n",
       "      <td>1326.0</td>\n",
       "      <td>0.08474</td>\n",
       "      <td>0.07864</td>\n",
       "      <td>0.0869</td>\n",
       "      <td>0.07017</td>\n",
       "      <td>0.1812</td>\n",
       "      <td>0.05667</td>\n",
       "      <td>...</td>\n",
       "      <td>24.99</td>\n",
       "      <td>23.41</td>\n",
       "      <td>158.80</td>\n",
       "      <td>1956.0</td>\n",
       "      <td>0.1238</td>\n",
       "      <td>0.1866</td>\n",
       "      <td>0.2416</td>\n",
       "      <td>0.1860</td>\n",
       "      <td>0.2750</td>\n",
       "      <td>0.08902</td>\n",
       "    </tr>\n",
       "    <tr>\n",
       "      <th>2</th>\n",
       "      <td>19.69</td>\n",
       "      <td>21.25</td>\n",
       "      <td>130.00</td>\n",
       "      <td>1203.0</td>\n",
       "      <td>0.10960</td>\n",
       "      <td>0.15990</td>\n",
       "      <td>0.1974</td>\n",
       "      <td>0.12790</td>\n",
       "      <td>0.2069</td>\n",
       "      <td>0.05999</td>\n",
       "      <td>...</td>\n",
       "      <td>23.57</td>\n",
       "      <td>25.53</td>\n",
       "      <td>152.50</td>\n",
       "      <td>1709.0</td>\n",
       "      <td>0.1444</td>\n",
       "      <td>0.4245</td>\n",
       "      <td>0.4504</td>\n",
       "      <td>0.2430</td>\n",
       "      <td>0.3613</td>\n",
       "      <td>0.08758</td>\n",
       "    </tr>\n",
       "    <tr>\n",
       "      <th>3</th>\n",
       "      <td>11.42</td>\n",
       "      <td>20.38</td>\n",
       "      <td>77.58</td>\n",
       "      <td>386.1</td>\n",
       "      <td>0.14250</td>\n",
       "      <td>0.28390</td>\n",
       "      <td>0.2414</td>\n",
       "      <td>0.10520</td>\n",
       "      <td>0.2597</td>\n",
       "      <td>0.09744</td>\n",
       "      <td>...</td>\n",
       "      <td>14.91</td>\n",
       "      <td>26.50</td>\n",
       "      <td>98.87</td>\n",
       "      <td>567.7</td>\n",
       "      <td>0.2098</td>\n",
       "      <td>0.8663</td>\n",
       "      <td>0.6869</td>\n",
       "      <td>0.2575</td>\n",
       "      <td>0.6638</td>\n",
       "      <td>0.17300</td>\n",
       "    </tr>\n",
       "  </tbody>\n",
       "</table>\n",
       "<p>4 rows × 30 columns</p>\n",
       "</div>"
      ],
      "text/plain": [
       "   radius_mean  texture_mean  perimeter_mean  area_mean  smoothness_mean  \\\n",
       "0        17.99         10.38          122.80     1001.0          0.11840   \n",
       "1        20.57         17.77          132.90     1326.0          0.08474   \n",
       "2        19.69         21.25          130.00     1203.0          0.10960   \n",
       "3        11.42         20.38           77.58      386.1          0.14250   \n",
       "\n",
       "   compactness_mean  concavity_mean  concave points_mean  symmetry_mean  \\\n",
       "0           0.27760          0.3001              0.14710         0.2419   \n",
       "1           0.07864          0.0869              0.07017         0.1812   \n",
       "2           0.15990          0.1974              0.12790         0.2069   \n",
       "3           0.28390          0.2414              0.10520         0.2597   \n",
       "\n",
       "   fractal_dimension_mean           ...             radius_worst  \\\n",
       "0                 0.07871           ...                    25.38   \n",
       "1                 0.05667           ...                    24.99   \n",
       "2                 0.05999           ...                    23.57   \n",
       "3                 0.09744           ...                    14.91   \n",
       "\n",
       "   texture_worst  perimeter_worst  area_worst  smoothness_worst  \\\n",
       "0          17.33           184.60      2019.0            0.1622   \n",
       "1          23.41           158.80      1956.0            0.1238   \n",
       "2          25.53           152.50      1709.0            0.1444   \n",
       "3          26.50            98.87       567.7            0.2098   \n",
       "\n",
       "   compactness_worst  concavity_worst  concave points_worst  symmetry_worst  \\\n",
       "0             0.6656           0.7119                0.2654          0.4601   \n",
       "1             0.1866           0.2416                0.1860          0.2750   \n",
       "2             0.4245           0.4504                0.2430          0.3613   \n",
       "3             0.8663           0.6869                0.2575          0.6638   \n",
       "\n",
       "   fractal_dimension_worst  \n",
       "0                  0.11890  \n",
       "1                  0.08902  \n",
       "2                  0.08758  \n",
       "3                  0.17300  \n",
       "\n",
       "[4 rows x 30 columns]"
      ]
     },
     "execution_count": 10,
     "metadata": {},
     "output_type": "execute_result"
    }
   ],
   "source": [
    "df.head(4)"
   ]
  },
  {
   "cell_type": "code",
   "execution_count": 22,
   "metadata": {},
   "outputs": [
    {
     "name": "stdout",
     "output_type": "stream",
     "text": [
      "i :  0   14.1272917399 \n",
      "\n",
      "i :  1   19.2896485062 \n",
      "\n",
      "i :  2   91.9690333919 \n",
      "\n",
      "i :  3   654.889103691 \n",
      "\n",
      "i :  4   0.0963602811951 \n",
      "\n",
      "i :  5   0.104340984183 \n",
      "\n",
      "i :  6   0.0887993158172 \n",
      "\n",
      "i :  7   0.0489191458699 \n",
      "\n",
      "i :  8   0.181161862917 \n",
      "\n",
      "i :  9   0.0627976098418 \n",
      "\n",
      "i :  10   0.405172056239 \n",
      "\n",
      "i :  11   1.21685342707 \n",
      "\n",
      "i :  12   2.86605922671 \n",
      "\n",
      "i :  13   40.3370790861 \n",
      "\n",
      "i :  14   0.00704097891037 \n",
      "\n",
      "i :  15   0.0254781388401 \n",
      "\n",
      "i :  16   0.0318937163445 \n",
      "\n",
      "i :  17   0.0117961370826 \n",
      "\n",
      "i :  18   0.0205422987698 \n",
      "\n",
      "i :  19   0.00379490386643 \n",
      "\n",
      "i :  20   16.2691898067 \n",
      "\n",
      "i :  21   25.6772231986 \n",
      "\n",
      "i :  22   107.261212654 \n",
      "\n",
      "i :  23   880.583128295 \n",
      "\n",
      "i :  24   0.132368594025 \n",
      "\n",
      "i :  25   0.254265043937 \n",
      "\n",
      "i :  26   0.272188483304 \n",
      "\n",
      "i :  27   0.114606223199 \n",
      "\n",
      "i :  28   0.290075571178 \n",
      "\n",
      "i :  29   0.0839458172232 \n",
      "\n"
     ]
    }
   ],
   "source": [
    "#Getting the average values of each column of the dataframe.\n",
    "for i in range(0,df.shape[1]):\n",
    " print \"i : \",i,\" \",np.mean(df[df.columns[i]]),\"\\n\""
   ]
  },
  {
   "cell_type": "code",
   "execution_count": null,
   "metadata": {
    "collapsed": true
   },
   "outputs": [],
   "source": []
  }
 ],
 "metadata": {
  "kernelspec": {
   "display_name": "Python 2",
   "language": "python",
   "name": "python2"
  },
  "language_info": {
   "codemirror_mode": {
    "name": "ipython",
    "version": 2
   },
   "file_extension": ".py",
   "mimetype": "text/x-python",
   "name": "python",
   "nbconvert_exporter": "python",
   "pygments_lexer": "ipython2",
   "version": "2.7.13"
  }
 },
 "nbformat": 4,
 "nbformat_minor": 2
}
